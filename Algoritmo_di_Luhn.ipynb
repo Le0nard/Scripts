{
  "nbformat": 4,
  "nbformat_minor": 0,
  "metadata": {
    "colab": {
      "provenance": [],
      "authorship_tag": "ABX9TyO+jd0wT7IfUKYlDi1y2WUX",
      "include_colab_link": true
    },
    "kernelspec": {
      "name": "python3",
      "display_name": "Python 3"
    },
    "language_info": {
      "name": "python"
    }
  },
  "cells": [
    {
      "cell_type": "markdown",
      "metadata": {
        "id": "view-in-github",
        "colab_type": "text"
      },
      "source": [
        "<a href=\"https://colab.research.google.com/github/Le0nard/Useful-Scripts/blob/main/Algoritmo_di_Luhn.ipynb\" target=\"_parent\"><img src=\"https://colab.research.google.com/assets/colab-badge.svg\" alt=\"Open In Colab\"/></a>"
      ]
    },
    {
      "cell_type": "markdown",
      "source": [
        "# Algoritmo di Luhn\n",
        "\n",
        "L'algoritmo di Luhn, conosciuto anche come **Modulo 10**, è ampiamente utilizzata per la verifica dei numeri di carte di credito (e altri numeri identificativi come i numeri IMEI o i Social Insurance Number canadesi).\n",
        "\n",
        "L'algoritmo di Luhn è incredibilmente semplice da capire e da implementare. Non richiede complessi calcoli matematici o una potenza di calcolo elevata, il che lo rende ideale per la verifica in tempo reale, anche su sistemi con risorse limitate.\n",
        "\n",
        "Il suo scopo principale è quello di rilevare gli errori accidentali di trascrizione o digitazione."
      ],
      "metadata": {
        "id": "3yhLurSOWOAf"
      }
    },
    {
      "cell_type": "markdown",
      "source": [
        "# Funzionamento\n",
        "\n",
        "Si \"ripulisce\" la stringa contenente il numero di credito, rimuovendo caratteri non necessari come gli spazi e i trattini. Dopodichè si applica la formula di Luhn o Modulo 10.\n",
        "\n",
        "La formula di Luhn funziona nel seguente modo:\n",
        "\n",
        "*   Da destra a sinistra si prende ogni seconda cifra dalla stringa (escludendo l'ultima cifra, che è la cifra di controllo);\n",
        "*   Si moltiplicano queste cifre per 2;\n",
        "*   Se il risultato della moltiplicazione è un numero a due cifre (es. 12 da 6*2), somma le due cifre tra loro (es. 6+2=8);\n",
        "*   Somma tutte le cifre risultanti (quelle raddoppiate e modificate, e quelle non raddoppiate).\n",
        "\n",
        "Si supponga di avere il seguente numero (con x la cifra di controllo):\n",
        "\n",
        "```\n",
        "Account number          7   9  9  2  7  3  9   8  7  1  x\n",
        "Double every other      7  18  9  4  7  6  9  16  7  2  x\n",
        "Sum 2-char digits       7   9  9  4  7  6  9   7  7  2  x\n",
        "```"
      ],
      "metadata": {
        "id": "O6DRUDJ3eBab"
      }
    },
    {
      "cell_type": "code",
      "execution_count": null,
      "metadata": {
        "id": "_oGSVFadWKoo"
      },
      "outputs": [],
      "source": [
        "def verify_card_number(card_number):\n",
        "    sum_of_odd_digits = 0\n",
        "    card_number_reversed = card_number[::-1]\n",
        "    odd_digits = card_number_reversed[::2]\n",
        "\n",
        "    for digit in odd_digits:\n",
        "        sum_of_odd_digits += int(digit)\n",
        "\n",
        "    sum_of_even_digits = 0\n",
        "    even_digits = card_number_reversed[1::2]\n",
        "    for digit in even_digits:\n",
        "        number = int(digit) * 2\n",
        "        if number >= 10:\n",
        "            number = (number // 10) + (number % 10)\n",
        "        sum_of_even_digits += number\n",
        "    total = sum_of_odd_digits + sum_of_even_digits\n",
        "    return total % 10 == 0\n",
        "\n",
        "def main():\n",
        "    card_number = '4111-1111-4655-1141'\n",
        "    card_translation = str.maketrans({'-': '', ' ': ''})\n",
        "    translated_card_number = card_number.translate(card_translation)\n",
        "\n",
        "    if verify_card_number(translated_card_number):\n",
        "        print('VALID!')\n",
        "    else:\n",
        "        print('INVALID!')\n",
        "\n",
        "main()"
      ]
    },
    {
      "cell_type": "markdown",
      "source": [
        "Dopodichè si effettua il check:\n",
        "\n",
        "*   L'ultima cifra del numero della carta di credito è la cosiddetta cifra di controllo (o checksum). Questa cifra non è scelta a caso, ma è stata calcolata al momento della generazione della carta proprio per far sì che il numero completo superasse il test di Luhn.\n",
        "*   Dopo aver eseguito i calcoli, il software verifica se la somma totale di tutte le cifre (quelle originali non raddoppiate e quelle raddoppiate e modificate) è divisibile per 10 (cioè, il resto della divisione per 10 è zero).\n",
        "\n",
        "Se la somma totale è divisibile per 10: Il numero viene considerato valido secondo l'algoritmo di Luhn. Questo significa che, almeno per quanto riguarda gli errori di digitazione comuni che Luhn è progettato per rilevare, il numero sembra corretto."
      ],
      "metadata": {
        "id": "tqRTnGE2iGtd"
      }
    }
  ]
}