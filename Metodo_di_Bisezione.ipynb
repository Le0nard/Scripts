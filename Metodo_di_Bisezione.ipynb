{
  "nbformat": 4,
  "nbformat_minor": 0,
  "metadata": {
    "colab": {
      "provenance": [],
      "authorship_tag": "ABX9TyMkozONSEaRSOCDT0UEY0nQ",
      "include_colab_link": true
    },
    "kernelspec": {
      "name": "python3",
      "display_name": "Python 3"
    },
    "language_info": {
      "name": "python"
    }
  },
  "cells": [
    {
      "cell_type": "markdown",
      "metadata": {
        "id": "view-in-github",
        "colab_type": "text"
      },
      "source": [
        "<a href=\"https://colab.research.google.com/github/Le0nard/Scripts/blob/main/Metodo_di_Bisezione.ipynb\" target=\"_parent\"><img src=\"https://colab.research.google.com/assets/colab-badge.svg\" alt=\"Open In Colab\"/></a>"
      ]
    },
    {
      "cell_type": "markdown",
      "source": [
        "# Metodo di Bisezione\n",
        "\n",
        "In analisi numerica il metodo di bisezione (o algoritmo dicotomico) è il metodo numerico più semplice per trovare le radici di una funzione.\n",
        "Data un funzione f(x), trovare le radici significa trovare quei valori di x per i quali f(x)=0.\n",
        "\n",
        "Sebbene la sua convergenza sia considerata \"lenta\" rispetto ad altri metodi più sofisticati (come il metodo di Newton), la sua affidabilità lo rende uno strumento prezioso in ingegneria, soprattutto in fase preliminare o quando altri metodi potrebbero fallire.\n",
        "\n"
      ],
      "metadata": {
        "id": "A3EHfXZ2eroL"
      }
    },
    {
      "cell_type": "markdown",
      "source": [
        "# Descrizione\n",
        "\n",
        "Data una funzione f(x)=0 definita e continua nell'intervallo [a,b], tale che `f(a) * f(b) < 0` è allora possibile calcolarne un'approssimazione in [a,b]\n",
        "\n",
        "\n",
        "\n",
        "1.   Si divide l'intervallo in due parti uguali;\n",
        "2.   Si calcola il valore della funzione nel punto medio dell'intervallo di ascissa `(a+b)/2`;\n",
        "3.   Se il risultato di `f((a+b)/2) = 0` allora la radice è stata trovata e l'algoritmo finisce qui;\n",
        "4.   Se invece non è stata trovata alcuna radice si utilizza questo punto come nuovo estremo e si rieffettua il calcolo nell'intervallo `[a, (a+b)/2]` e `[(a+b)/2, b]`\n",
        "\n",
        "e così via fino a trovare la radice della funzione."
      ],
      "metadata": {
        "id": "3RuL58GGfnwJ"
      }
    },
    {
      "cell_type": "code",
      "execution_count": null,
      "metadata": {
        "id": "6hA8IjAjejNV"
      },
      "outputs": [],
      "source": [
        "def square_root_bisection(square_target, tolerance=1e-7, max_iterations=100):\n",
        "    if square_target < 0:\n",
        "        raise ValueError('Square root of negative number is not defined in real numbers')\n",
        "    if square_target == 1:\n",
        "        root = 1\n",
        "        print(f'The square root of {square_target} is 1')\n",
        "    elif square_target == 0:\n",
        "        root = 0\n",
        "        print(f'The square root of {square_target} is 0')\n",
        "\n",
        "    else:\n",
        "        low = 0\n",
        "        high = max(1, square_target)\n",
        "        root = None\n",
        "\n",
        "        for _ in range(max_iterations):\n",
        "            mid = (low + high) / 2\n",
        "            square_mid = mid**2\n",
        "\n",
        "            if abs(square_mid - square_target) < tolerance:\n",
        "                root = mid\n",
        "                break\n",
        "\n",
        "            elif square_mid < square_target:\n",
        "                low = mid\n",
        "            else:\n",
        "                high = mid\n",
        "\n",
        "        if root is None:\n",
        "            print(f\"Failed to converge within {max_iterations} iterations.\")\n",
        "\n",
        "        else:\n",
        "            print(f'The square root of {square_target} is approximately {root}')\n",
        "\n",
        "    return root\n",
        "\n",
        "\n",
        "N = 16\n",
        "square_root_bisection(N)"
      ]
    }
  ]
}