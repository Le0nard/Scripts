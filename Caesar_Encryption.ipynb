{
  "nbformat": 4,
  "nbformat_minor": 0,
  "metadata": {
    "colab": {
      "provenance": [],
      "authorship_tag": "ABX9TyN41aDX6X5ivi8DE6pNuwjs",
      "include_colab_link": true
    },
    "kernelspec": {
      "name": "python3",
      "display_name": "Python 3"
    },
    "language_info": {
      "name": "python"
    }
  },
  "cells": [
    {
      "cell_type": "markdown",
      "metadata": {
        "id": "view-in-github",
        "colab_type": "text"
      },
      "source": [
        "<a href=\"https://colab.research.google.com/github/Le0nard/Useful-Scripts/blob/main/Caesar_Encryption.ipynb\" target=\"_parent\"><img src=\"https://colab.research.google.com/assets/colab-badge.svg\" alt=\"Open In Colab\"/></a>"
      ]
    },
    {
      "cell_type": "markdown",
      "source": [
        "# Caesar Encryption\n",
        "\n",
        "Questo genere di crittografia è molto semplice.\n",
        "\n",
        "Dato il dizionario alfanumerico: \"abcdefghijklmnopqrtuwzx1234567890\":\n",
        "*   viene valutata la posizione di ogni carattere alfanumerico (es. a=1, f=6) e collezionato in una variabile `index`\n",
        "*   viene aggiunto a questo indice uno shift (es. shift = 3) e collezionato in una variabile `new_index`\n",
        "*   si ricava il carattere alfanumerico alla nuova posizione `new_index`\n",
        "*   si ripete l'intero processo per ogni carattere della stringa\n",
        "\n",
        "Eccezioni:\n",
        "*   se il carattere è uno spazio, si lascia com'è!\n"
      ],
      "metadata": {
        "id": "sIGnUeWLObas"
      }
    },
    {
      "cell_type": "code",
      "execution_count": 1,
      "metadata": {
        "colab": {
          "base_uri": "https://localhost:8080/"
        },
        "id": "bhtTno-OOCkH",
        "outputId": "0a537c43-559d-439a-d88e-58f45bb363e4"
      },
      "outputs": [
        {
          "output_type": "stream",
          "name": "stdout",
          "text": [
            "plain text: Hello Zaira\n",
            "encrypted text: khoor cdlud\n",
            "plain text: Hello Zaira\n",
            "encrypted text: uryyb mnven\n"
          ]
        }
      ],
      "source": [
        "text = 'Hello Zaira'\n",
        "shift = 3\n",
        "\n",
        "def caesar(message, offset):\n",
        "    alphabet = 'abcdefghijklmnopqrstuvwxyz'\n",
        "    encrypted_text = ''\n",
        "\n",
        "    for char in message.lower():\n",
        "        if char == ' ':\n",
        "            encrypted_text += char\n",
        "        else:\n",
        "            index = alphabet.find(char)\n",
        "            new_index = (index + offset) % len(alphabet)\n",
        "            encrypted_text += alphabet[new_index]\n",
        "    print('plain text:', message)\n",
        "    print('encrypted text:', encrypted_text)\n",
        "\n",
        "caesar(text, shift)\n",
        "caesar(text, 13)"
      ]
    }
  ]
}