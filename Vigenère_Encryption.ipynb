{
  "nbformat": 4,
  "nbformat_minor": 0,
  "metadata": {
    "colab": {
      "provenance": [],
      "authorship_tag": "ABX9TyOREQT+RjF/arJguk0odWOs",
      "include_colab_link": true
    },
    "kernelspec": {
      "name": "python3",
      "display_name": "Python 3"
    },
    "language_info": {
      "name": "python"
    }
  },
  "cells": [
    {
      "cell_type": "markdown",
      "metadata": {
        "id": "view-in-github",
        "colab_type": "text"
      },
      "source": [
        "<a href=\"https://colab.research.google.com/github/Le0nard/Useful-Scripts/blob/main/Vigen%C3%A8re_Encryption.ipynb\" target=\"_parent\"><img src=\"https://colab.research.google.com/assets/colab-badge.svg\" alt=\"Open In Colab\"/></a>"
      ]
    },
    {
      "cell_type": "markdown",
      "source": [
        "# Vigenère Encryption\n",
        "\n",
        "Questo genere di crittografia si differenzia da quello Caesar per via del fatto che la variabile di shift non è costante per tutte le lettere da codificare (es. 3 come nel caso di Caesar) ma dipende dai caratteri di un'altra parola che viene chiamata `key`. Quindi se ad esempio la parola è python l'offset di ogni carattere della parola sarà usato come shift nel calcolo della posizione dell'indice del nuovo carattere.\n",
        "\n",
        "Dato il dizionario alfanumerico: \"abcdefghijklmnopqrtuwzx1234567890\":\n",
        "*   viene valutata la posizione di ogni carattere alfanumerico (es. a=1, f=6) e collezionato in una variabile `index`\n",
        "*   viene aggiunto a questo indice uno shift, che dipende dall'inidice del carattere deppa parola `key`, e collezionato in una variabile `new_index`\n",
        "*   si ricava il carattere alfanumerico alla nuova posizione `new_index`\n",
        "*   si ripete l'intero processo per ogni carattere della stringa\n",
        "\n",
        "Eccezioni:\n",
        "*   se il carattere è uno spazio, si lascia com'è!\n"
      ],
      "metadata": {
        "id": "plNNc-l-VU07"
      }
    },
    {
      "cell_type": "code",
      "execution_count": null,
      "metadata": {
        "colab": {
          "base_uri": "https://localhost:8080/"
        },
        "id": "3FJWAreHSqap",
        "outputId": "3810ee41-be69-45ed-adac-29ef32398933"
      },
      "outputs": [
        {
          "output_type": "stream",
          "name": "stdout",
          "text": [
            "wcesc mpgkh\n"
          ]
        }
      ],
      "source": [
        "text = 'mrttaqrhknsw ih puggrur'\n",
        "custom_key = 'happycoding'\n",
        "\n",
        "def vigenere(message, key, direction=1):\n",
        "    key_index = 0\n",
        "    alphabet = 'abcdefghijklmnopqrstuvwxyz'\n",
        "    final_message = ''\n",
        "\n",
        "    for char in message.lower():\n",
        "\n",
        "        # Append any non-letter character to the message\n",
        "        if not char.isalpha():\n",
        "            final_message += char\n",
        "        else:\n",
        "            # Find the right key character to encode/decode\n",
        "            key_char = key[key_index % len(key)]\n",
        "            key_index += 1\n",
        "\n",
        "            # Define the offset and the encrypted/decrypted letter\n",
        "            offset = alphabet.index(key_char)\n",
        "            index = alphabet.find(char)\n",
        "            new_index = (index + offset*direction) % len(alphabet)\n",
        "            final_message += alphabet[new_index]\n",
        "\n",
        "    return final_message\n",
        "\n",
        "def encrypt(message, key):\n",
        "    return vigenere(message, key)\n",
        "\n",
        "def decrypt(message, key):\n",
        "    return vigenere(message, key, -1)\n",
        "\n",
        "print(f'\\nEncrypted text: {text}')\n",
        "print(f'Key: {custom_key}')\n",
        "decryption = decrypt(text, custom_key)\n",
        "print(f'\\nDecrypted text: {decryption}\\n')"
      ]
    }
  ]
}